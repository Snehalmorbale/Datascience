{
 "cells": [
  {
   "cell_type": "markdown",
   "id": "47d1a9d0-3f93-45e9-90ec-52c485bdc6e7",
   "metadata": {},
   "source": [
    "# Data Science Tools and Ecosystem"
   ]
  },
  {
   "cell_type": "markdown",
   "id": "f606c424-f612-47c0-bc77-db42254dada2",
   "metadata": {},
   "source": [
    "In this notebook, Data Science Tools and Ecosystem are summarized."
   ]
  },
  {
   "cell_type": "markdown",
   "id": "f6c85a42-f04b-4449-9633-45725b78ecf8",
   "metadata": {},
   "source": [
    "Some of the popular languages that Data Scientists use are:\n",
    "\n",
    "1. Python\n",
    "2. R \n",
    "3. SQL\n",
    "4. C++ \n",
    "5. Java etc..;"
   ]
  },
  {
   "cell_type": "markdown",
   "id": "965e2f1e-e3b8-4173-b98f-a69d79d80de2",
   "metadata": {},
   "source": [
    "Some of the commonly used libraries used by Data Scientists include:\n",
    "1. Tensorflow \n",
    "2. Numpy\n",
    "3. Scipy\n",
    "4. Pandas\n",
    "5. Matplotlib etc..;"
   ]
  },
  {
   "cell_type": "markdown",
   "id": "87385270-3449-4666-af96-2812498012f2",
   "metadata": {},
   "source": [
    "|Data Science Tools|\n",
    "|--|\n",
    "|SAS|\n",
    "|Apache Hadoop|\n",
    "|Tensorflow|"
   ]
  },
  {
   "cell_type": "markdown",
   "id": "82a8bc73-468c-4a62-b60c-0459d00f0f14",
   "metadata": {},
   "source": [
    "### Below are a few examples of evaluating arithmetic expressions in Python."
   ]
  },
  {
   "cell_type": "code",
   "execution_count": 4,
   "id": "6b8ffd42-2ec9-4461-a235-eb0fb16c6ffa",
   "metadata": {},
   "outputs": [
    {
     "data": {
      "text/plain": [
       "17"
      ]
     },
     "execution_count": 4,
     "metadata": {},
     "output_type": "execute_result"
    }
   ],
   "source": [
    "#This a simple arithmetic expression to mutiply then add integer\n",
    "(3*4)+5"
   ]
  },
  {
   "cell_type": "code",
   "execution_count": 5,
   "id": "26eb1a48-aa34-4994-a576-eb790aa79d42",
   "metadata": {},
   "outputs": [
    {
     "data": {
      "text/plain": [
       "3.3333333333333335"
      ]
     },
     "execution_count": 5,
     "metadata": {},
     "output_type": "execute_result"
    }
   ],
   "source": [
    "#This will convert 200 minutes to hours by diving by 60\n",
    "200/60"
   ]
  },
  {
   "cell_type": "markdown",
   "id": "e769fa30-b49e-49b3-80bb-acfb49d7b526",
   "metadata": {},
   "source": [
    "__Objectives__\n",
    "* List popular languages for Data Science\n",
    "* List popular libraries for Data Science\n",
    "* List of well known Data Science Tools    \n",
    "* How to Provide comments in the cell\n",
    "                          "
   ]
  },
  {
   "cell_type": "markdown",
   "id": "28efa267-cf92-4be8-b116-db5583b6f55f",
   "metadata": {},
   "source": [
    "## Author\n",
    "Snehal Morbale"
   ]
  }
 ],
 "metadata": {
  "kernelspec": {
   "display_name": "Python 3 (ipykernel)",
   "language": "python",
   "name": "python3"
  },
  "language_info": {
   "codemirror_mode": {
    "name": "ipython",
    "version": 3
   },
   "file_extension": ".py",
   "mimetype": "text/x-python",
   "name": "python",
   "nbconvert_exporter": "python",
   "pygments_lexer": "ipython3",
   "version": "3.9.10"
  }
 },
 "nbformat": 4,
 "nbformat_minor": 5
}
